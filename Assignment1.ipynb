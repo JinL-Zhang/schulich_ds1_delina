{
 "cells": [
  {
   "cell_type": "code",
   "execution_count": 4,
   "metadata": {},
   "outputs": [
    {
     "name": "stderr",
     "output_type": "stream",
     "text": [
      "/var/folders/75/tr_v06ms4k7gy38vcppxbcf80000gn/T/ipykernel_13298/2685077917.py:32: FutureWarning: The frame.append method is deprecated and will be removed from pandas in a future version. Use pandas.concat instead.\n",
      "  data = data.append(dup_rows, ignore_index=True)\n"
     ]
    }
   ],
   "source": [
    "import pandas as pd\n",
    "import numpy as np\n",
    "import random\n",
    "from faker import Faker\n",
    "\n",
    "# Instantiate Faker\n",
    "fake = Faker()\n",
    "\n",
    "# Define the size of the dataset\n",
    "size = 1000\n",
    "\n",
    "# Define the list of products and regions\n",
    "products = ['Product_' + str(i) for i in range(1, 51)]\n",
    "regions = ['Region_' + str(i) for i in range(1, 11)]\n",
    "\n",
    "# Generate the data\n",
    "data = pd.DataFrame({\n",
    "    'Product': [random.choice(products) for _ in range(size)],\n",
    "    'Region': [random.choice(regions) for _ in range(size)],\n",
    "    'Price': np.round(np.random.exponential(scale=100, size=size), 2),\n",
    "    'Units Sold': np.random.poisson(lam=10, size=size),\n",
    "    'Sale Date': pd.date_range(start='1/1/2022', periods=size)\n",
    "})\n",
    "\n",
    "# Introduce messiness\n",
    "# Missing values\n",
    "for col in ['Product', 'Region', 'Price', 'Units Sold']:\n",
    "    data.loc[data.sample(frac=0.1).index, col] = np.nan\n",
    "\n",
    "# Duplicate rows\n",
    "dup_rows = data.sample(frac=0.05)\n",
    "data = data.append(dup_rows, ignore_index=True)\n",
    "\n",
    "# Outliers\n",
    "data.loc[data.sample(frac=0.01).index, 'Price'] *= 10\n",
    "\n",
    "# Wrong data types\n",
    "data['Units Sold'] = data['Units Sold'].astype(float)\n",
    "\n",
    "# Export the data\n",
    "data.to_csv('/Users/delinaivanova/Library/CloudStorage/OneDrive-Personal/Schulich/Course Content - Data Science I/2023/sales_data.csv', index=False)"
   ]
  },
  {
   "cell_type": "code",
   "execution_count": 2,
   "metadata": {},
   "outputs": [
    {
     "name": "stdout",
     "output_type": "stream",
     "text": [
      "\u001b[33mDEPRECATION: Configuring installation scheme with distutils config files is deprecated and will no longer work in the near future. If you are using a Homebrew or Linuxbrew Python, please see discussion at https://github.com/Homebrew/homebrew-core/issues/76621\u001b[0m\n",
      "Collecting faker\n",
      "  Downloading Faker-18.9.0-py3-none-any.whl (1.7 MB)\n",
      "     |████████████████████████████████| 1.7 MB 618 kB/s            \n",
      "\u001b[?25hRequirement already satisfied: python-dateutil>=2.4 in /Users/delinaivanova/Library/Python/3.9/lib/python/site-packages (from faker) (2.8.2)\n",
      "Requirement already satisfied: six>=1.5 in /Users/delinaivanova/Library/Python/3.9/lib/python/site-packages (from python-dateutil>=2.4->faker) (1.16.0)\n",
      "Installing collected packages: faker\n",
      "\u001b[33mDEPRECATION: Configuring installation scheme with distutils config files is deprecated and will no longer work in the near future. If you are using a Homebrew or Linuxbrew Python, please see discussion at https://github.com/Homebrew/homebrew-core/issues/76621\u001b[0m\n",
      "Successfully installed faker-18.9.0\n",
      "\u001b[33mWARNING: You are using pip version 21.3.1; however, version 23.1.2 is available.\n",
      "You should consider upgrading via the '/usr/local/opt/python@3.9/bin/python3.9 -m pip install --upgrade pip' command.\u001b[0m\n",
      "Note: you may need to restart the kernel to use updated packages.\n"
     ]
    }
   ],
   "source": [
    "pip install faker"
   ]
  },
  {
   "cell_type": "code",
   "execution_count": null,
   "metadata": {},
   "outputs": [],
   "source": []
  }
 ],
 "metadata": {
  "kernelspec": {
   "display_name": "Python 3",
   "language": "python",
   "name": "python3"
  },
  "language_info": {
   "codemirror_mode": {
    "name": "ipython",
    "version": 3
   },
   "file_extension": ".py",
   "mimetype": "text/x-python",
   "name": "python",
   "nbconvert_exporter": "python",
   "pygments_lexer": "ipython3",
   "version": "3.9.9"
  },
  "orig_nbformat": 4
 },
 "nbformat": 4,
 "nbformat_minor": 2
}
