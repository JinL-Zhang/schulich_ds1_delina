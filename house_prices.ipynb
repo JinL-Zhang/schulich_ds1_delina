{
 "cells": [
  {
   "cell_type": "code",
   "execution_count": 2,
   "metadata": {},
   "outputs": [
    {
     "name": "stderr",
     "output_type": "stream",
     "text": [
      "/var/folders/75/tr_v06ms4k7gy38vcppxbcf80000gn/T/ipykernel_2317/607749742.py:20: FutureWarning: The frame.append method is deprecated and will be removed from pandas in a future version. Use pandas.concat instead.\n",
      "  data = data.append(data.sample(5), ignore_index=True)\n"
     ]
    }
   ],
   "source": [
    "import pandas as pd\n",
    "import numpy as np\n",
    "\n",
    "np.random.seed(42)\n",
    "\n",
    "# Generate data\n",
    "data = pd.DataFrame({\n",
    "    'Age': np.random.randint(18, 65, 100),\n",
    "    'Income': np.random.normal(loc=50000, scale=15000, size=100),\n",
    "    'Gender': np.random.choice(['Male', 'Female'], 100),\n",
    "    'Product': np.random.choice(['A', 'B', 'C', 'D'], 100),\n",
    "    'Quantity': np.random.randint(1, 6, 100)\n",
    "})\n",
    "\n",
    "# Introduce missing values\n",
    "data.loc[np.random.randint(0, 100, 10), 'Income'] = np.nan\n",
    "data.loc[np.random.randint(0, 100, 5), 'Product'] = np.nan\n",
    "\n",
    "# Introduce duplicate rows\n",
    "data = data.append(data.sample(5), ignore_index=True)\n",
    "\n",
    "# Introduce outliers\n",
    "data.loc[98, 'Age'] = 120\n",
    "data.loc[99, 'Income'] = 300000\n",
    "\n",
    "# Save data to a CSV file\n",
    "data.to_csv('/Users/delinaivanova/Library/CloudStorage/OneDrive-Personal/Schulich/Course Content - Data Science I/2023/messy_data.csv', index=False)\n"
   ]
  },
  {
   "cell_type": "code",
   "execution_count": null,
   "metadata": {},
   "outputs": [],
   "source": []
  }
 ],
 "metadata": {
  "kernelspec": {
   "display_name": "Python 3",
   "language": "python",
   "name": "python3"
  },
  "language_info": {
   "codemirror_mode": {
    "name": "ipython",
    "version": 3
   },
   "file_extension": ".py",
   "mimetype": "text/x-python",
   "name": "python",
   "nbconvert_exporter": "python",
   "pygments_lexer": "ipython3",
   "version": "3.9.9"
  },
  "orig_nbformat": 4
 },
 "nbformat": 4,
 "nbformat_minor": 2
}
